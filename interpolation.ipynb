{
 "cells": [
  {
   "cell_type": "markdown",
   "id": "4dea657b",
   "metadata": {},
   "source": [
    "POLYNOMIAL INTERPOLATION"
   ]
  },
  {
   "cell_type": "code",
   "execution_count": 102,
   "id": "8a57da9a",
   "metadata": {},
   "outputs": [],
   "source": [
    "import matplotlib.pyplot as plt\n",
    "import math as m\n",
    "import numpy as np"
   ]
  },
  {
   "cell_type": "raw",
   "id": "c3f6c5a3",
   "metadata": {},
   "source": [
    "NEWTON INTERPOLATION"
   ]
  },
  {
   "cell_type": "code",
   "execution_count": 107,
   "id": "dcef6b1d",
   "metadata": {},
   "outputs": [],
   "source": [
    "def p(x,X):#function to find the product terms\n",
    "    p=1\n",
    "    for i in X:\n",
    "        p *=x-i\n",
    "    return p"
   ]
  },
  {
   "cell_type": "code",
   "execution_count": 108,
   "id": "14456166",
   "metadata": {},
   "outputs": [],
   "source": [
    "def newtinterpolation(f,x,X):\n",
    "    n=len(X)\n",
    "    if n==1:\n",
    "        return f(X[0])\n",
    "    else:\n",
    "        xm=X[-1]\n",
    "        X=X[:-1]\n",
    "        return newtinterpolation(f,x,X)+((f(xm)-newtinterpolation(f,xm,X))/p(xm,X)*p(x,X))"
   ]
  },
  {
   "cell_type": "code",
   "execution_count": 109,
   "id": "74dc1d97",
   "metadata": {},
   "outputs": [],
   "source": [
    "def f(x): #defining function e^-x\n",
    "    return m.exp(-x)"
   ]
  },
  {
   "cell_type": "code",
   "execution_count": 110,
   "id": "9bd09b63",
   "metadata": {},
   "outputs": [],
   "source": [
    "points=[0.1,0.5,0.6,0.8] #data points\n",
    "N=100\n",
    "X=[]\n",
    "for i in range(0,N+1):\n",
    "    fr=i/100\n",
    "    X.append(fr)\n",
    "\n",
    "approxpoly=[]\n",
    "for a in X:\n",
    "    approxpoly.append(newtinterpolation(f,a,points))"
   ]
  },
  {
   "cell_type": "code",
   "execution_count": 111,
   "id": "26984b41",
   "metadata": {},
   "outputs": [],
   "source": [
    "realval=[] #list of real values and interpolated values\n",
    "interpolval=[]\n",
    "for i in X:\n",
    "    realval.append(f(i))\n",
    "for k in points:\n",
    "    interpolval.append(f(k))\n",
    "    "
   ]
  },
  {
   "cell_type": "code",
   "execution_count": 112,
   "id": "7a601769",
   "metadata": {},
   "outputs": [
    {
     "data": {
      "text/plain": [
       "[<matplotlib.lines.Line2D at 0x7f9fe8101880>]"
      ]
     },
     "execution_count": 112,
     "metadata": {},
     "output_type": "execute_result"
    },
    {
     "data": {
      "image/png": "[encoded data removed]",
      "text/plain": [
       "<Figure size 432x288 with 1 Axes>"
      ]
     },
     "metadata": {
      "needs_background": "light"
     },
     "output_type": "display_data"
    }
   ],
   "source": [
    "#plotting real and interpolated values\n",
    "plt.plot(X,realval,'r')\n",
    "plt.plot(X,approxpoly,'b')\n",
    "plt.plot(points,interpolval,'o')"
   ]
  },
  {
   "cell_type": "markdown",
   "id": "2a674671",
   "metadata": {},
   "source": [
    "LAGRANGE INTERPOLATION"
   ]
  },
  {
   "cell_type": "code",
   "execution_count": 251,
   "id": "3f7b6c05",
   "metadata": {},
   "outputs": [],
   "source": [
    "def lagrange(xp,X):#xp-interpolation point\n",
    "    yp = 0#set interpolated value to 0\n",
    "    n=len(X) #no. of data points\n",
    "    for i in range(n):\n",
    "        p = 1\n",
    "        for j in range(n):\n",
    "            if i != j:\n",
    "                p *= (xp - X[j])/(X[i] - X[j])\n",
    "        yp += p * y[i] \n",
    "    return yp"
   ]
  },
  {
   "cell_type": "code",
   "execution_count": 252,
   "id": "ce7899a5",
   "metadata": {},
   "outputs": [
    {
     "name": "stdout",
     "output_type": "stream",
     "text": [
      "the value at 3 is 35.0\n"
     ]
    }
   ],
   "source": [
    "X=[0,1,2,5] #data points\n",
    "y=[2,3,12,147]\n",
    "xp=3\n",
    "print('the value at',xp,'is',lagrange(xp,X))\n"
   ]
  },
  {
   "cell_type": "markdown",
   "id": "849bcfc4",
   "metadata": {},
   "source": [
    "NEWTON DIVIDED DIFFERENCE INTERPOLATING POLYNOMIAL"
   ]
  },
  {
   "cell_type": "code",
   "execution_count": 188,
   "id": "fa82cc3a",
   "metadata": {},
   "outputs": [],
   "source": [
    "def prod(i, value, x): #function for product terms\n",
    "    p = 1; \n",
    "    for j in range(i): \n",
    "        p = p * (value - x[j]); \n",
    "    return p"
   ]
  },
  {
   "cell_type": "code",
   "execution_count": 202,
   "id": "925b8da2",
   "metadata": {},
   "outputs": [],
   "source": [
    "def newtondiv(x,X, y, n,t):\n",
    "    \n",
    "  \n",
    "    for i in range(1, n): \n",
    "        for j in range(n - i): \n",
    "            y[j][i] = ((y[j][i - 1] - y[j + 1][i - 1]) /\n",
    "                                     (X[j] - X[i + j]));\n",
    "    \n",
    "    s = y[0][0]; \n",
    "  \n",
    "    for i in range(1, n):\n",
    "        s = s + (prod(i,x, X) * y[0][i]); \n",
    "    \n",
    "    if t==1:\n",
    "        for i in range(n): \n",
    "            for j in range(n - i): \n",
    "                print(round(y[i][j], 4), \"\\t\", \n",
    "                               end = \" \"); \n",
    "  \n",
    "            print(\" \"); \n",
    "    \n",
    "    elif t==0:\n",
    "        pass\n",
    "   \n",
    "    return s\n",
    "     "
   ]
  },
  {
   "cell_type": "code",
   "execution_count": 203,
   "id": "d1ac8000",
   "metadata": {},
   "outputs": [
    {
     "name": "stdout",
     "output_type": "stream",
     "text": [
      "9 \t -4.0 \t 3.0 \t -0.0 \t -0.0 \t  \n",
      "1 \t 5.0 \t 3.0 \t -0.0 \t  \n",
      "6 \t 17.0 \t 3.0 \t  \n",
      "57 \t 29.0 \t  \n",
      "86 \t  \n",
      "\n",
      "Value at 2 is 17.0\n"
     ]
    }
   ],
   "source": [
    "n = 5; #no. of points\n",
    "y = [[0 for i in range(n)] \n",
    "        for j in range(n)]; \n",
    "X = [ -2,0,1,4,5 ]; #x values\n",
    "#creating table\n",
    "y[0][0] = 9;  \n",
    "y[1][0] = 1; \n",
    "y[2][0] = 6; \n",
    "y[3][0] = 57;\n",
    "y[4][0]=86;\n",
    "x = 2;   \n",
    "print(\"\\nValue at\", x, \"is\",\n",
    "        newtondiv(x, X, y, n,1))  "
   ]
  },
  {
   "cell_type": "markdown",
   "id": "38351bcf",
   "metadata": {},
   "source": [
    "NEWTON GREGORY FORWARD INTERPOLATING POLYNOMIAL"
   ]
  },
  {
   "cell_type": "code",
   "execution_count": 162,
   "id": "50cdbdd3",
   "metadata": {},
   "outputs": [],
   "source": [
    "def fact(n): #function to clac factorial\n",
    "    f = 1;\n",
    "    for i in range(2, n + 1):\n",
    "        f *= i;\n",
    "    return f\n",
    "def prod(p, n): #product terms\n",
    " \n",
    "    prod = p;\n",
    "    for i in range(1, n):\n",
    "        prod *= (p - i);\n",
    "    return prod"
   ]
  },
  {
   "cell_type": "code",
   "execution_count": 163,
   "id": "2e37d51a",
   "metadata": {},
   "outputs": [],
   "source": [
    "def newtonf(x,p,n):\n",
    "    \n",
    "    p = (x - X[0]) / (X[1] - X[0]);\n",
    " \n",
    "\n",
    "    for i in range(1, n):\n",
    "        for j in range(n - i):\n",
    "            y[j][i] = y[j + 1][i - 1] - y[j][i - 1];\n",
    " \n",
    "\n",
    "    for i in range(n):\n",
    "        print(X[i], end = \"\\t\");\n",
    "        for j in range(n - i):\n",
    "            print(y[i][j], end = \"\\t\");\n",
    "        print(\"\");\n",
    "        \n",
    "    s = y[0][0];\n",
    "    for i in range(1,n):\n",
    "        s = s + (prod(p,i) * y[0][i]) / fact(i);\n",
    "    \n",
    "    return s\n",
    "\n",
    " \n"
   ]
  },
  {
   "cell_type": "code",
   "execution_count": 164,
   "id": "47b7c92d",
   "metadata": {},
   "outputs": [
    {
     "name": "stdout",
     "output_type": "stream",
     "text": [
      "45\t0.7071\t0.05890000000000006\t-0.005700000000000038\t-0.0007000000000000339\t\n",
      "50\t0.766\t0.053200000000000025\t-0.006400000000000072\t\n",
      "55\t0.8192\t0.04679999999999995\t\n",
      "60\t0.866\t\n",
      "\n",
      "Value at 52 is 0.7880032\n"
     ]
    }
   ],
   "source": [
    "n = 4;#no. of points\n",
    "X = [ 45, 50, 55, 60 ];#x values\n",
    "     \n",
    "# y values in tabular form\n",
    "y = [[0 for i in range(n)]\n",
    "        for j in range(n)];\n",
    "y[0][0] = 0.7071;\n",
    "y[1][0] = 0.7660;\n",
    "y[2][0] = 0.8192;\n",
    "y[3][0] = 0.8660;\n",
    "x = 52;\n",
    "\n",
    "print(\"\\nValue at\", x,\n",
    "      \"is\",newtonf(x,p,n));"
   ]
  },
  {
   "cell_type": "markdown",
   "id": "4388294f",
   "metadata": {},
   "source": [
    "NEWTON GREGORY BACKWARD INTERPOLATING POLYNOMIAL"
   ]
  },
  {
   "cell_type": "code",
   "execution_count": 166,
   "id": "a972e8f7",
   "metadata": {},
   "outputs": [],
   "source": [
    "def prod(p, n): #product terms\n",
    " \n",
    "    prod = p;\n",
    "    for i in range(1, n):\n",
    "        prod *= (p + i);\n",
    "    return prod"
   ]
  },
  {
   "cell_type": "code",
   "execution_count": 170,
   "id": "bcc7c58e",
   "metadata": {},
   "outputs": [],
   "source": [
    "def newtonb(x,p,n):\n",
    "    p = (x - X[n - 1]) / (X[1] - X[0])\n",
    " \n",
    "\n",
    "    for i in range(1, n):\n",
    "        for j in range(n - 1,i,-1):\n",
    "            y[j][i] = y[j][i - 1] - y[j - 1][i - 1];\n",
    " \n",
    "\n",
    "    for i in range(n):\n",
    "        print(X[i], end = \"\\t\");\n",
    "        for j in range(i+1):\n",
    "            print(y[i][j], end = \"\\t\");\n",
    "        print(\"\");\n",
    "        \n",
    "    s = y[n-1][0];\n",
    "    for i in range(1,n):\n",
    "        s = s + (prod(p,i) * y[n-1][i]) / fact(i);\n",
    "    \n",
    "    return s\n",
    "    "
   ]
  },
  {
   "cell_type": "code",
   "execution_count": 171,
   "id": "ab349c61",
   "metadata": {},
   "outputs": [
    {
     "name": "stdout",
     "output_type": "stream",
     "text": [
      "45\t0.7071\t\n",
      "50\t0.766\t0\t\n",
      "55\t0.8192\t0.053200000000000025\t0\t\n",
      "60\t0.866\t0.04679999999999995\t-0.006400000000000072\t0\t\n",
      "\n",
      "Value at 52 is 0.788048\n"
     ]
    }
   ],
   "source": [
    "n = 4;#no. of points\n",
    "X = [ 45, 50, 55, 60 ];#x values\n",
    "     \n",
    "#y values in tabular form\n",
    "y = [[0 for i in range(n)]\n",
    "        for j in range(n)];\n",
    "y[0][0] = 0.7071;\n",
    "y[1][0] = 0.7660;\n",
    "y[2][0] = 0.8192;\n",
    "y[3][0] = 0.8660;\n",
    "x = 52;\n",
    "\n",
    "print(\"\\nValue at\", x,\n",
    "      \"is\",newtonb(x,p,n));"
   ]
  }
 ],
 "metadata": {
  "kernelspec": {
   "display_name": "Python 3",
   "language": "python",
   "name": "python3"
  },
  "language_info": {
   "codemirror_mode": {
    "name": "ipython",
    "version": 3
   },
   "file_extension": ".py",
   "mimetype": "text/x-python",
   "name": "python",
   "nbconvert_exporter": "python",
   "pygments_lexer": "ipython3",
   "version": "3.8.8"
  }
 },
 "nbformat": 4,
 "nbformat_minor": 5
}
