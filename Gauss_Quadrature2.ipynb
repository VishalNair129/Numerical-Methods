{
  "nbformat": 4,
  "nbformat_minor": 0,
  "metadata": {
    "colab": {
      "name": "Gauss Quadrature.ipynb",
      "provenance": [],
      "collapsed_sections": []
    },
    "kernelspec": {
      "name": "python3",
      "display_name": "Python 3"
    },
    "language_info": {
      "name": "python"
    }
  },
  "cells": [
    {
      "cell_type": "code",
      "execution_count": null,
      "metadata": {
        "colab": {
          "base_uri": "https://localhost:8080/"
        },
        "id": "XOs95QTCEsU1",
        "outputId": "306715f1-03fc-4620-a04c-0369e6ca7793"
      },
      "outputs": [
        {
          "output_type": "stream",
          "name": "stdout",
          "text": [
            "Enter n (2 to 6):3\n",
            "1\n"
          ]
        }
      ],
      "source": [
        "def f(x):\n",
        "  return x**7+x**2+1\n",
        "x=[0.57735,-0.57735,-0.77459,0,0.77459,0.33998,-0.33998,0.86113,-0.86113,0,0.53846,-0.53846,0.90617,-0.90617,0.23861,-0.23861,0.6612,-0.6612,0.93246,-0.93246]\n",
        "Lambda=[1,1,0.55555,0.88888,0.55555,0.65214,0.65214,0.34785,0.34785,0.56888,0.47862,0.47862,0.23692,0.23692,0.46791,0.46791,0.36076,0.36076,0.17132,0.17132]\n",
        "sum=0\n",
        "n=int(input(\"Enter n (2 to 6):\"))\n",
        "def add(n):\n",
        "    if n-1==1:\n",
        "      a=0\n",
        "    else:\n",
        "      a=add(n-1)\n",
        "    return(n-2+a)\n",
        "\n",
        "print(add(n))\n",
        "# count=0\n",
        "# for i in range(len(x)):\n",
        "#     a=add(n)\n",
        "#     count+=1\n",
        "#     print(Lambda[a],x[a])\n",
        "#     sum+=Lambda[a]*f(x[a])\n",
        "#     if count==n:\n",
        "#       break\n",
        "# print(\"Req Integral is\",sum)"
      ]
    },
    {
      "cell_type": "code",
      "source": [
        "import numpy as np \n",
        "import numpy.polynomial.laguerre as lib\n",
        "\n",
        "def f(x):\n",
        "  import numpy as np\n",
        "  return np.exp(x)/(x**2+2)    \n",
        "# Input degree = 2\n",
        "degree = 2 \n",
        "# using np.laggauss() method \n",
        "res = lib.laggauss(degree)  \n",
        "# Resulting array of sample point and weight\n",
        "print (res)\n",
        "sum=0\n",
        "for i in range(degree):\n",
        "  sum+=res[1][i]*f(res[0][i])\n",
        "print(sum)\n",
        "print(np.pi/(2*np.sqrt(2)))"
      ],
      "metadata": {
        "colab": {
          "base_uri": "https://localhost:8080/"
        },
        "id": "eYWkeDwpBWwn",
        "outputId": "659024a3-5ecc-4ebf-aab3-617d4ce3cb52"
      },
      "execution_count": null,
      "outputs": [
        {
          "output_type": "stream",
          "name": "stdout",
          "text": [
            "(array([0.58578644, 3.41421356]), array([0.85355339, 0.14644661]))\n",
            "0.9803016223933778\n",
            "1.1107207345395915\n"
          ]
        }
      ]
    },
    {
      "cell_type": "code",
      "source": [
        "import numpy.polynomial.laguerre as lib\n",
        "import numpy as np\n",
        "def lag_table(degree): \n",
        "  table=lib.laggauss(degree)\n",
        "  return table\n",
        "\n",
        "def f(x):\n",
        "  return np.exp(x)/(x**2+2) \n",
        "\n",
        "def lag_integrate(degree):\n",
        "  sum=0\n",
        "  table=lag_table(degree)\n",
        "  for i in range(degree):\n",
        "    sum+=table[1][i]*f(table[0][i])\n",
        "  return sum\n",
        "\n",
        "def main():\n",
        "  exact=np.pi/(2*np.sqrt(2))\n",
        "  degree=2\n",
        "  app=lag_integrate(degree)\n",
        "  while abs(exact-app)>10**(-2):\n",
        "    degree+=1\n",
        "    app=lag_integrate(degree)\n",
        "  return degree,app,exact\n",
        "\n",
        "degree,app,exact=main()\n",
        "print(\"Exact value of integral is\",exact)\n",
        "print(\"Using Laguerre Quadrature\")\n",
        "print(\"Approximate value of integral till degree (\",degree,\") is\",app)"
      ],
      "metadata": {
        "colab": {
          "base_uri": "https://localhost:8080/"
        },
        "id": "Cha_uV4YGgem",
        "outputId": "f3af7319-d9d2-41eb-8c78-5b65c9dc85be"
      },
      "execution_count": null,
      "outputs": [
        {
          "output_type": "stream",
          "name": "stdout",
          "text": [
            "Exact value of integral is 1.1107207345395915\n",
            "Using Laguerre Quadrature\n",
            "Approximate value of integral till degree ( 27 ) is 1.1008054928174524\n"
          ]
        }
      ]
    },
    {
      "cell_type": "code",
      "source": [
        "import numpy as np \n",
        "import numpy.polynomial.hermite as geek\n",
        "    \n",
        "# Input degree = 2\n",
        "  \n",
        "degree = 2\n",
        "     \n",
        "# using np.laggauss() method \n",
        "res = geek.hermgauss(degree) \n",
        "  \n",
        "# Resulting array of sample point and weight\n",
        "print (res)"
      ],
      "metadata": {
        "colab": {
          "base_uri": "https://localhost:8080/"
        },
        "id": "C3AlkNX5D8K-",
        "outputId": "9c0fc80e-040a-4b66-ee43-c28bcb408779"
      },
      "execution_count": null,
      "outputs": [
        {
          "output_type": "stream",
          "name": "stdout",
          "text": [
            "(array([-0.70710678,  0.70710678]), array([0.88622693, 0.88622693]))\n"
          ]
        }
      ]
    },
    {
      "cell_type": "code",
      "source": [
        "import numpy as np \n",
        "import numpy.polynomial.legendre as geek\n",
        "    \n",
        "# Input degree = 2\n",
        "  \n",
        "degree = 2\n",
        "     \n",
        "# using np.laggauss() method \n",
        "res = geek.leggauss(degree) \n",
        "  \n",
        "# Resulting array of sample point and weight\n",
        "print (res)"
      ],
      "metadata": {
        "colab": {
          "base_uri": "https://localhost:8080/"
        },
        "id": "Y0bEIPbJEQ4S",
        "outputId": "d1637fbd-b223-42ef-a926-e48ad02248d6"
      },
      "execution_count": null,
      "outputs": [
        {
          "output_type": "stream",
          "name": "stdout",
          "text": [
            "(array([-0.57735027,  0.57735027]), array([1., 1.]))\n"
          ]
        }
      ]
    }
  ]
}