{
 "cells": [
  {
   "cell_type": "markdown",
   "id": "50873f00",
   "metadata": {},
   "source": [
    "VERLET ALGORITHM\n",
    "In Verlet algorithm the equation for updating the position and velocity are-\n",
    "\\begin{aligned}\n",
    "X(t+\\Delta t/2)=X(t)+\\Delta t/2(V(t))\\\\\n",
    "V(t+\\Delta t)=V(t) +\\Delta t(t+\\Delta t/2)\\\\\n",
    "X(t+\\Delta t)=X(t+\\Delta t/2)+\\Delta t/2(V(t+\\Delta t/2))\n",
    "\\end{aligned}\n",
    "where $X(t+\\Delta t/2)$ is the position at time $t+\\Delta t/2,V(t+\\Delta t)$ is the velocity at time $t+\\Delta t$ and $X(t+\\Delta t)$ is te position at time $t+\\Delta t$ \n",
    "\n"
   ]
  },
  {
   "cell_type": "markdown",
   "id": "c43cbddf",
   "metadata": {},
   "source": [
    "PLANETARY MOTION\n",
    "\n",
    "differential equations for the motion of a planet with sun at (0,0),\n",
    "\\begin{eqnarray}\n",
    "\\frac{d^2x}{dt^2}=-\\frac{GM_sx}{R^3},\\\\\n",
    "\\frac{d^2y}{dt^2}=-\\frac{GM_sy}{R^3},\\\\\n",
    "x(0)=r_0,\\\\\n",
    "y(0)=0,\\\\\n",
    "V_x(0)=0,\\\\\n",
    "V_y(0)=V_0\\\\\n",
    "\\end{eqnarray}\n",
    "\n",
    "find non-dimensional positions by measuring the x and y values wrt $r_{0}$\n",
    "\\begin{eqnarray}\n",
    "X=x/r_0,\\\\\n",
    "Y=y/r_0\n",
    "\\end{eqnarray}\n",
    "\n",
    "the differential equations become,\n",
    "\\begin{eqnarray}\n",
    "\\frac{d^2X}{dt^2}=-\\frac{GM_sX}{(r_0)^3R^3},\\\\\n",
    "\\frac{d^2Y}{dt^2}=-\\frac{GM_sY}{(r_0)^3R^3},\\\\\n",
    "\\end{eqnarray}\n",
    "Natural Time scale\n",
    "\\begin{eqnarray}\n",
    "T_0=\\frac{r^3_0}{GM_s}\n",
    "\\end{eqnarray}\n",
    "\n",
    "Non-dimensional unit of time,\n",
    "$\\tau$=$\\frac{T_0}{t}$\n",
    "\n",
    "thus the differential equations thus obtained are-\n",
    "\\begin{eqnarray}\n",
    "\\frac{d^2X}{d\\tau^2}=-\\frac{X}{R^3},\\\\\n",
    "\\frac{d^2Y}{d\\tau^2}=-\\frac{Y}{R^3},\\\\\n",
    "\\end{eqnarray}"
   ]
  },
  {
   "cell_type": "code",
   "execution_count": 3,
   "id": "cbe3ac80",
   "metadata": {},
   "outputs": [],
   "source": [
    "import matplotlib.pyplot as plt\n",
    "import math"
   ]
  },
  {
   "cell_type": "code",
   "execution_count": 45,
   "id": "3cc0eb97",
   "metadata": {},
   "outputs": [],
   "source": [
    "def orbit(X0,Y0,Vx1,Vy1,dt,ft,flag):\n",
    "    X = X0   \n",
    "    Y = Y0\n",
    "    V_x = Vx1    \n",
    "    V_y = Vy1 ## Initial velocity in units of r_0/T\n",
    "    A_x = -X/((X**2 + Y**2)**1.5)\n",
    "    A_y = -Y/((X**2 + Y**2)**1.5)\n",
    "    Energy = 0.5*(V_x*V_x + V_y*V_y) - 1./math.sqrt(X**2 + Y**2)\n",
    "    time = 0.0         \n",
    "    N = int(ft/dt)     ## Time increment\n",
    "    Xs = [X]\n",
    "    Ys = [Y]\n",
    "    Es = [Energy]\n",
    "    ts = [time]\n",
    "    for i in range(0,N):\n",
    "        X += 0.5*dt*V_x ## There are two position coordinates X and Y therefore the verlet algorithm will be applied twice. \n",
    "        Y += 0.5*dt*V_y\n",
    "        A_x = -X/((X**2 + Y**2)**1.5)\n",
    "        A_y = -Y/((X**2 + Y**2)**1.5)\n",
    "        V_x += dt*A_x\n",
    "        V_y += dt*A_y\n",
    "        X += 0.5*dt*V_x\n",
    "        Y += 0.5*dt*V_y\n",
    "        Energy = 0.5*(V_x*V_x + V_y*V_y) - 1./math.sqrt(X**2 + Y**2) ## updated energy \n",
    "        time += dt\n",
    "        Xs.append(X)\n",
    "        Ys.append(Y)\n",
    "        Es.append(Energy)\n",
    "        ts.append(time)\n",
    "    if flag==0:\n",
    "        return Xs,Ys,ts\n",
    "    elif flag==1:\n",
    "        return Es"
   ]
  },
  {
   "cell_type": "markdown",
   "id": "9ab6f5d4",
   "metadata": {},
   "source": [
    "PLOTTING THE ORBIT"
   ]
  },
  {
   "cell_type": "code",
   "execution_count": 46,
   "id": "fef8944a",
   "metadata": {},
   "outputs": [],
   "source": [
    "X,Y,t=orbit(1,0,0,1.3,0.01,100,0)"
   ]
  },
  {
   "cell_type": "code",
   "execution_count": 47,
   "id": "28349066",
   "metadata": {},
   "outputs": [
    {
     "data": {
      "text/plain": [
       "[<matplotlib.lines.Line2D at 0x7f94685c28b0>]"
      ]
     },
     "execution_count": 47,
     "metadata": {},
     "output_type": "execute_result"
    },
    {
     "data": {
      "image/png": "[encoded data removed]",
      "text/plain": [
       "<Figure size 432x288 with 1 Axes>"
      ]
     },
     "metadata": {
      "needs_background": "light"
     },
     "output_type": "display_data"
    }
   ],
   "source": [
    "centre_x = 0.0\n",
    "centre_y = 0.0\n",
    "plt.xlabel('X')\n",
    "plt.ylabel('Y')\n",
    "plt.axis('equal')\n",
    "plt.title('Orbit')\n",
    "plt.plot(X,Y)\n",
    "plt.plot(centre_x, centre_y, marker = 'o')"
   ]
  },
  {
   "cell_type": "markdown",
   "id": "ff8c538a",
   "metadata": {},
   "source": [
    "PLOTTING ENERGY VS TIME GRAPH"
   ]
  },
  {
   "cell_type": "code",
   "execution_count": 48,
   "id": "0b0173f7",
   "metadata": {},
   "outputs": [],
   "source": [
    "E=orbit(1,0,0,1.3,0.01,100,1)"
   ]
  },
  {
   "cell_type": "code",
   "execution_count": 53,
   "id": "361acfdb",
   "metadata": {},
   "outputs": [
    {
     "data": {
      "text/plain": [
       "[<matplotlib.lines.Line2D at 0x7f94581c11f0>]"
      ]
     },
     "execution_count": 53,
     "metadata": {},
     "output_type": "execute_result"
    },
    {
     "data": {
      "image/png": "[encoded data removed]",
      "text/plain": [
       "<Figure size 432x288 with 1 Axes>"
      ]
     },
     "metadata": {
      "needs_background": "light"
     },
     "output_type": "display_data"
    }
   ],
   "source": [
    "plt.xlabel('tau')\n",
    "plt.ylabel('E')\n",
    "plt.title('Energy vs time')\n",
    "plt.xlim(0.5,35.5)\n",
    "plt.plot(t,E)"
   ]
  }
 ],
 "metadata": {
  "kernelspec": {
   "display_name": "Python 3",
   "language": "python",
   "name": "python3"
  },
  "language_info": {
   "codemirror_mode": {
    "name": "ipython",
    "version": 3
   },
   "file_extension": ".py",
   "mimetype": "text/x-python",
   "name": "python",
   "nbconvert_exporter": "python",
   "pygments_lexer": "ipython3",
   "version": "3.8.8"
  }
 },
 "nbformat": 4,
 "nbformat_minor": 5
}
